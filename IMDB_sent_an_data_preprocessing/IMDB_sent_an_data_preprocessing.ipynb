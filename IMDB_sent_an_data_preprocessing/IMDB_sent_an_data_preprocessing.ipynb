{
 "cells": [
  {
   "cell_type": "markdown",
   "metadata": {},
   "source": [
    "# Sentiment analysis on IMDB reviews: data preprocessing"
   ]
  },
  {
   "cell_type": "markdown",
   "metadata": {},
   "source": [
    "Most of the code of notebook comes from this page\n",
    "https://www.oreilly.com/learning/perform-sentiment-analysis-with-lstms-using-tensorflow\n",
    "\n",
    "I realized that I was repeating in all my notebooks (TensorFlow, Keras, Pytorch) the same data inspection and data preprocessing, and thought it would be better to put it in a separate notebook."
   ]
  },
  {
   "cell_type": "markdown",
   "metadata": {},
   "source": [
    "## Libraries"
   ]
  },
  {
   "cell_type": "code",
   "execution_count": 1,
   "metadata": {},
   "outputs": [],
   "source": [
    "import numpy as np\n",
    "import csv\n",
    "import io\n",
    "from matplotlib import pyplot\n",
    "import pickle"
   ]
  },
  {
   "cell_type": "markdown",
   "metadata": {},
   "source": [
    "## Loading pretrained embeddings"
   ]
  },
  {
   "cell_type": "markdown",
   "metadata": {},
   "source": [
    "The pretrained embeddins from GloVe can be downloaded here: https://nlp.stanford.edu/projects/glove/"
   ]
  },
  {
   "cell_type": "markdown",
   "metadata": {},
   "source": [
    "There are different **word embedding sizes**. The possibilities are 50, 100, 200, 300. We define the one we use next."
   ]
  },
  {
   "cell_type": "code",
   "execution_count": 3,
   "metadata": {},
   "outputs": [],
   "source": [
    "word_emb_size = '100'"
   ]
  },
  {
   "cell_type": "code",
   "execution_count": 4,
   "metadata": {},
   "outputs": [],
   "source": [
    "emb_file_name = 'glove.6B/glove.6B.' + word_emb_size + 'd.txt'"
   ]
  },
  {
   "cell_type": "markdown",
   "metadata": {},
   "source": [
    "The code of the next cell comes from https://stackoverflow.com/questions/37793118/load-pretrained-glove-vectors-in-python#45894001"
   ]
  },
  {
   "cell_type": "code",
   "execution_count": 5,
   "metadata": {},
   "outputs": [],
   "source": [
    "import pandas as pd\n",
    "import csv\n",
    "\n",
    "emb_df = pd.read_table(emb_file_name, sep=\" \",\n",
    "                       index_col=0, header=None, quoting=csv.QUOTE_NONE, encoding='utf-8')"
   ]
  },
  {
   "cell_type": "code",
   "execution_count": 6,
   "metadata": {},
   "outputs": [
    {
     "data": {
      "text/plain": [
       "(400000, 100)"
      ]
     },
     "execution_count": 6,
     "metadata": {},
     "output_type": "execute_result"
    }
   ],
   "source": [
    "emb_df.shape"
   ]
  },
  {
   "cell_type": "markdown",
   "metadata": {},
   "source": [
    "Then we transform the Pandas data frame into one list `words_list` containing the words (the indexes from the data frame) and one numpy array `word_vectors` containing the corresponding vectors. This last data frame will play the role of our **look-up table** later when we define our model."
   ]
  },
  {
   "cell_type": "code",
   "execution_count": 7,
   "metadata": {},
   "outputs": [],
   "source": [
    "words_list = list(emb_df.index)\n",
    "word_vectors = emb_df.values"
   ]
  },
  {
   "cell_type": "code",
   "execution_count": 45,
   "metadata": {},
   "outputs": [],
   "source": [
    "with open(\"words_list.txt\", \"wb\") as fp:\n",
    "    pickle.dump(words_list, fp)"
   ]
  },
  {
   "cell_type": "code",
   "execution_count": 49,
   "metadata": {},
   "outputs": [],
   "source": [
    "np.save('word_vectors', word_vectors)"
   ]
  },
  {
   "cell_type": "markdown",
   "metadata": {},
   "source": [
    "## Example with Embeddings"
   ]
  },
  {
   "cell_type": "markdown",
   "metadata": {},
   "source": [
    "I commented this part because it is useless for the real task. It only serves a pedagogic purpose."
   ]
  },
  {
   "cell_type": "code",
   "execution_count": 8,
   "metadata": {},
   "outputs": [],
   "source": [
    "#baseball_idx = words_list.index('baseball')\n",
    "#word_vectors[baseball_idx]"
   ]
  },
  {
   "cell_type": "code",
   "execution_count": 9,
   "metadata": {},
   "outputs": [],
   "source": [
    "#max_seq_len = 10 #Maximum length of sentence"
   ]
  },
  {
   "cell_type": "code",
   "execution_count": 10,
   "metadata": {},
   "outputs": [],
   "source": [
    "#first_sentence = np.zeros((max_seq_len), dtype='int32')\n",
    "#first_sentence[0] = words_list.index(\"i\")\n",
    "#first_sentence[1] = words_list.index(\"thought\")\n",
    "#first_sentence[2] = words_list.index(\"the\")\n",
    "#first_sentence[3] = words_list.index(\"movie\")\n",
    "#first_sentence[4] = words_list.index(\"was\")\n",
    "#first_sentence[5] = words_list.index(\"incredible\")\n",
    "#first_sentence[6] = words_list.index(\"and\")\n",
    "#first_sentence[7] = words_list.index(\"inspiring\")\n",
    "##first_sentence[8] and first_sentence[9] are going to be 0\n",
    "#print(first_sentence.shape)\n",
    "#print(first_sentence) #Shows the row index for each word"
   ]
  },
  {
   "cell_type": "code",
   "execution_count": 11,
   "metadata": {},
   "outputs": [],
   "source": [
    "#with tf.Session() as sess:\n",
    "#    print(tf.nn.embedding_lookup(word_vectors,first_sentence).eval().shape)"
   ]
  },
  {
   "cell_type": "markdown",
   "metadata": {},
   "source": [
    "## Visualizing the data"
   ]
  },
  {
   "cell_type": "markdown",
   "metadata": {},
   "source": [
    "In this section we are looking for the threshold we should take as maximum length of a text. In our implementation, we want to use LSTM, and feed it with inputs of same length. A priori, the IMDB reviews have different lengths, so what we do is to cut all texts which are longer than a given threshold (that we determine here) and use zero padding for the ones which are smaller."
   ]
  },
  {
   "cell_type": "code",
   "execution_count": 12,
   "metadata": {},
   "outputs": [],
   "source": [
    "from os import listdir\n",
    "from os.path import isfile, join"
   ]
  },
  {
   "cell_type": "code",
   "execution_count": 13,
   "metadata": {},
   "outputs": [],
   "source": [
    "PATH = \"/home/aritz/Documents/CS_Programming_Machine_Learning/Machine_learning_and_AI/Online_courses/Fast_AI/fastai/courses/dl1/data/aclImdb/\"\n",
    "#PATH = \"/home/aritz/Documents/CS_Programming_Machine_Learning/Machine_learning_and_AI/Online_courses/Fast_AI/fastai/courses/dl1/data/aclImdb_sample2/\"\n",
    "TRAIN = PATH+'train/'\n",
    "TEST = PATH+'test/'"
   ]
  },
  {
   "cell_type": "code",
   "execution_count": 14,
   "metadata": {},
   "outputs": [],
   "source": [
    "TRAIN_POS = TRAIN + 'pos/'\n",
    "TRAIN_NEG = TRAIN + 'neg/'\n",
    "pos_files_trn = [TRAIN_POS + f for f in listdir(TRAIN_POS) if isfile(join(TRAIN_POS, f))]\n",
    "neg_files_trn = [TRAIN_NEG + f for f in listdir(TRAIN_NEG) if isfile(join(TRAIN_NEG, f))]"
   ]
  },
  {
   "cell_type": "code",
   "execution_count": 15,
   "metadata": {},
   "outputs": [],
   "source": [
    "TEST_POS = TEST + 'pos/'\n",
    "TEST_NEG = TEST + 'neg/'\n",
    "pos_files_test = [TEST_POS + f for f in listdir(TEST_POS) if isfile(join(TEST_POS, f))]\n",
    "neg_files_test = [TEST_NEG + f for f in listdir(TEST_NEG) if isfile(join(TEST_NEG, f))]"
   ]
  },
  {
   "cell_type": "markdown",
   "metadata": {},
   "source": [
    "In order to find a good threshold, we determine the average number of words in one sample of the training set."
   ]
  },
  {
   "cell_type": "code",
   "execution_count": 16,
   "metadata": {},
   "outputs": [
    {
     "name": "stdout",
     "output_type": "stream",
     "text": [
      "Positive files finished\n",
      "Negative files finished\n"
     ]
    }
   ],
   "source": [
    "n_words = []\n",
    "for pf in pos_files_trn:\n",
    "    with open(pf, \"r\", encoding='utf-8') as f:\n",
    "        line=f.readline()\n",
    "        counter = len(line.split())\n",
    "        n_words.append(counter)       \n",
    "print('Positive files finished')\n",
    "\n",
    "for nf in neg_files_test:\n",
    "    with open(nf, \"r\", encoding='utf-8') as f:\n",
    "        line=f.readline()\n",
    "        counter = len(line.split())\n",
    "        n_words.append(counter)  \n",
    "print('Negative files finished')"
   ]
  },
  {
   "cell_type": "code",
   "execution_count": 17,
   "metadata": {},
   "outputs": [],
   "source": [
    "n_files_trn = len(pos_files_trn) + len(neg_files_trn)\n",
    "n_files_test = len(pos_files_test) + len(neg_files_test)"
   ]
  },
  {
   "cell_type": "markdown",
   "metadata": {},
   "source": [
    "Strangely it seems that there aren't exactly 12500 files in the folders indicated below, as it is supposed to be."
   ]
  },
  {
   "cell_type": "code",
   "execution_count": 18,
   "metadata": {},
   "outputs": [
    {
     "name": "stdout",
     "output_type": "stream",
     "text": [
      "12501\n",
      "12501\n",
      "12501\n",
      "12500\n"
     ]
    }
   ],
   "source": [
    "print(len(pos_files_trn))\n",
    "print(len(neg_files_trn))\n",
    "print(len(pos_files_test))\n",
    "print(len(neg_files_test))"
   ]
  },
  {
   "cell_type": "code",
   "execution_count": 19,
   "metadata": {},
   "outputs": [
    {
     "name": "stdout",
     "output_type": "stream",
     "text": [
      "The total number of files is 25002\n",
      "The total number of words in the files is 5809599\n",
      "The average number of words in the files is 232.37466501339946\n"
     ]
    }
   ],
   "source": [
    "print('The total number of files is', n_files_trn)\n",
    "print('The total number of words in the files is', sum(n_words))\n",
    "print('The average number of words in the files is', sum(n_words)/len(n_words))"
   ]
  },
  {
   "cell_type": "markdown",
   "metadata": {},
   "source": [
    "Next we plot an histogram of the number of words in each sample."
   ]
  },
  {
   "cell_type": "code",
   "execution_count": 20,
   "metadata": {},
   "outputs": [
    {
     "data": {
      "image/png": "[encoded data removed]",
      "text/plain": [
       "<Figure size 432x288 with 1 Axes>"
      ]
     },
     "metadata": {},
     "output_type": "display_data"
    }
   ],
   "source": [
    "import matplotlib.pyplot as plt\n",
    "%matplotlib inline\n",
    "plt.hist(n_words, 50)\n",
    "plt.xlabel('Sequence Length')\n",
    "plt.ylabel('Frequency')\n",
    "plt.axis([0, 1200, 0, 8000])\n",
    "plt.show()"
   ]
  },
  {
   "cell_type": "markdown",
   "metadata": {},
   "source": [
    "Looking at this, 250 words seems a good choice."
   ]
  },
  {
   "cell_type": "code",
   "execution_count": 4,
   "metadata": {},
   "outputs": [],
   "source": [
    "max_seq_len = 250"
   ]
  },
  {
   "cell_type": "code",
   "execution_count": 5,
   "metadata": {},
   "outputs": [],
   "source": [
    "with open(\"max_seq_len.txt\", \"wb\") as fp:\n",
    "    pickle.dump(max_seq_len, fp)"
   ]
  },
  {
   "cell_type": "markdown",
   "metadata": {},
   "source": [
    "## Mapping words to indexes"
   ]
  },
  {
   "cell_type": "markdown",
   "metadata": {},
   "source": [
    "In this section we map words to indexes using our words_list variable.\n",
    "\n",
    "**Question**: It is not entirely clear to me, how the unknown tokens are dealt with. From the code, a new token is assigned the index 399'999. But this corresponds to a word in the GloVe embedding data frame (\"sandberger\"). I guess that as this word is uncommun, it might serve the purpose of designating unknown words. Even stranger to me is the way padding is used: the author of the code I copied (https://www.oreilly.com/learning/perform-sentiment-analysis-with-lstms-using-tensorflow) uses 0 padding. But in our system, 0 corresponds to \"the\" and will be treated as a real word by the lstm."
   ]
  },
  {
   "cell_type": "markdown",
   "metadata": {},
   "source": [
    "First we do it for a specific file."
   ]
  },
  {
   "cell_type": "markdown",
   "metadata": {},
   "source": [
    "We display the content of the file (i.e. the real text).  (I commented out this part because it is useless for the real task)"
   ]
  },
  {
   "cell_type": "code",
   "execution_count": 22,
   "metadata": {},
   "outputs": [],
   "source": [
    "#fname = pos_files_trn[3] #Can use any valid index (not just 3)\n",
    "#with open(fname) as f:\n",
    "#    for lines in f:\n",
    "#        print(lines)\n",
    "#        exit"
   ]
  },
  {
   "cell_type": "markdown",
   "metadata": {},
   "source": [
    "Removes punctuation, parentheses, question marks, etc., and leaves only alphanumeric characters. In more details, as explained on this page:\n",
    "\n",
    "https://www.regular-expressions.info/quickstart.html\n",
    "\n",
    "`[A-Za-z0-9 ]` is a regular expression matching (once) any alphanumeric character or the space, `[^A-Za-z0-9 ]` matches (once) any character which is not one of those (because of the `^`), and `[^A-Za-z0-9 ]+`, matches the class of non-alphanumeric (or space) characters one or more times (because of the `+`). In the line\n",
    "\n",
    "`re.sub(strip_special_chars, \"\", string.lower())`\n",
    "\n",
    "this this expression is removed (replaced by `\"\"`)."
   ]
  },
  {
   "cell_type": "code",
   "execution_count": 23,
   "metadata": {},
   "outputs": [],
   "source": [
    "import re\n",
    "strip_special_chars = re.compile(\"[^A-Za-z0-9 ]+\")\n",
    "\n",
    "def clean_sentences(string):\n",
    "    string = string.lower().replace(\"<br />\", \" \")\n",
    "    return re.sub(strip_special_chars, \"\", string.lower())"
   ]
  },
  {
   "cell_type": "markdown",
   "metadata": {},
   "source": [
    "We map the given file to a list of indexes where each indexe corresponds to a word, according to the list `words_list`. (I commented out this part because it is useless for the real task)"
   ]
  },
  {
   "cell_type": "code",
   "execution_count": 24,
   "metadata": {},
   "outputs": [],
   "source": [
    "#first_file = np.zeros((max_seq_len), dtype='int32')\n",
    "#with open(fname) as f:\n",
    "#    idx_counter = 0\n",
    "#    line=f.readline()\n",
    "#    cleaned_line = clean_sentences(line)\n",
    "#    split = cleaned_line.split()\n",
    "#    for word in split:\n",
    "#        try:\n",
    "#            first_file[idx_counter] = words_list.index(word)\n",
    "#        except ValueError:\n",
    "#            first_file[idx_counter] = 399999 #Vector for unknown words\n",
    "#        idx_counter = idx_counter + 1\n",
    "#first_file"
   ]
  },
  {
   "cell_type": "markdown",
   "metadata": {},
   "source": [
    "### Training set"
   ]
  },
  {
   "cell_type": "markdown",
   "metadata": {},
   "source": [
    "ids_train will be a matrix, which contains for each file of the training set (first the positive ones, then the negative ones) a row where the columns contain the indices corresponding to the words of the sample file.\n",
    "\n",
    "The whole computation of the transformation of each text file into a list of indices takes time and needs to be performed only once. The result is saved after the first time and then reloaded for all the other executions."
   ]
  },
  {
   "cell_type": "code",
   "execution_count": 25,
   "metadata": {},
   "outputs": [],
   "source": [
    "#ids_train = np.zeros((n_files_trn, max_seq_len), dtype='int32')"
   ]
  },
  {
   "cell_type": "code",
   "execution_count": 26,
   "metadata": {},
   "outputs": [],
   "source": [
    "#file_counter = 0\n",
    "#for pf in pos_files_trn:\n",
    "#    with open(pf, \"r\") as f:\n",
    "#        idx_counter = 0\n",
    "#        line=f.readline()\n",
    "#        cleaned_line = clean_sentences(line)\n",
    "#        split = cleaned_line.split()\n",
    "#        for word in split:\n",
    "#            try:\n",
    "#                ids_train[file_counter][idx_counter] = words_list.index(word)\n",
    "#            except ValueError:\n",
    "#                ids_train[file_counter][idx_counter] = 399999 #Vector for unkown words\n",
    "#            idx_counter = idx_counter + 1\n",
    "#            if idx_counter >= max_seq_len:\n",
    "#                break\n",
    "#        file_counter = file_counter + 1"
   ]
  },
  {
   "cell_type": "code",
   "execution_count": 27,
   "metadata": {},
   "outputs": [],
   "source": [
    "#for nf in neg_files_trn:\n",
    "#    with open(nf, \"r\") as f:\n",
    "#        idx_counter = 0\n",
    "#        line=f.readline()\n",
    "#        cleaned_line = clean_sentences(line)\n",
    "#        split = cleaned_line.split()\n",
    "#        for word in split:\n",
    "#            try:\n",
    "#                ids_train[file_counter][idx_counter] = words_list.index(word)\n",
    "#            except ValueError:\n",
    "#                ids_train[file_counter][idx_counter] = 399999 #Vector for unkown words\n",
    "#            idx_counter = idx_counter + 1\n",
    "#            if idx_counter >= max_seq_len:\n",
    "#                break\n",
    "#        file_counter = file_counter + 1 "
   ]
  },
  {
   "cell_type": "code",
   "execution_count": 28,
   "metadata": {},
   "outputs": [],
   "source": [
    "#Pass into embedding function and see if it evaluates. \n",
    "\n",
    "#np.save('Saved_embeddings/idsMatrixTrain'+word_emb_size, ids_train)\n",
    "\n",
    "ids_train = np.load('Saved_embeddings/idsMatrixTrain'+word_emb_size+'.npy')"
   ]
  },
  {
   "cell_type": "markdown",
   "metadata": {},
   "source": [
    "### Testing set"
   ]
  },
  {
   "cell_type": "code",
   "execution_count": 29,
   "metadata": {},
   "outputs": [],
   "source": [
    "#ids_test = np.zeros((n_files_test, max_seq_len), dtype='int32')"
   ]
  },
  {
   "cell_type": "code",
   "execution_count": 30,
   "metadata": {},
   "outputs": [],
   "source": [
    "#file_counter = 0\n",
    "#for pf in pos_files_test:\n",
    "#    with open(pf, \"r\") as f:\n",
    "#        idx_counter = 0\n",
    "#        line=f.readline()\n",
    "#        cleaned_line = clean_sentences(line)\n",
    "#        split = cleaned_line.split()\n",
    "#        for word in split:\n",
    "#            try:\n",
    "#                ids_test[file_counter][idx_counter] = words_list.index(word)\n",
    "#            except ValueError:\n",
    "#                ids_test[file_counter][idx_counter] = 399999 #Vector for unkown words\n",
    "#            idx_counter = idx_counter + 1\n",
    "#            if idx_counter >= max_seq_len:\n",
    "#                break\n",
    "#        file_counter = file_counter + 1"
   ]
  },
  {
   "cell_type": "code",
   "execution_count": 31,
   "metadata": {},
   "outputs": [],
   "source": [
    "#for nf in neg_files_test:\n",
    "#    with open(nf, \"r\") as f:\n",
    "#        idx_counter = 0\n",
    "#        line=f.readline()\n",
    "#        cleaned_line = clean_sentences(line)\n",
    "#        split = cleaned_line.split()\n",
    "#        for word in split:\n",
    "#            try:\n",
    "#                ids_test[file_counter][idx_counter] = words_list.index(word)\n",
    "#            except ValueError:\n",
    "#                ids_test[file_counter][idx_counter] = 399999 #Vector for unkown words\n",
    "#            idx_counter = idx_counter + 1\n",
    "#            if idx_counter >= max_seq_len:\n",
    "#                break\n",
    "#        file_counter = file_counter + 1 "
   ]
  },
  {
   "cell_type": "code",
   "execution_count": 32,
   "metadata": {},
   "outputs": [],
   "source": [
    "#np.save('Saved_embeddings/idsMatrixTest'+word_emb_size, ids_test)\n",
    "\n",
    "ids_test = np.load('Saved_embeddings/idsMatrixTest'+word_emb_size+'.npy')"
   ]
  },
  {
   "cell_type": "markdown",
   "metadata": {},
   "source": [
    "## Labels"
   ]
  },
  {
   "cell_type": "markdown",
   "metadata": {},
   "source": [
    "Now we also create the **labels** with **one-hot-encoding** ([1, 0] for positive and [0, 1] for negative), as done in the original notebook."
   ]
  },
  {
   "cell_type": "code",
   "execution_count": 34,
   "metadata": {},
   "outputs": [],
   "source": [
    "len_pos_trn = len(pos_files_trn)\n",
    "len_neg_trn = len(neg_files_trn)\n",
    "y_train = [[1,0] for i in range(len_pos_trn)] + [[0,1] for i in range(len_neg_trn)]"
   ]
  },
  {
   "cell_type": "code",
   "execution_count": 35,
   "metadata": {},
   "outputs": [],
   "source": [
    "len_pos_test = len(pos_files_test)\n",
    "len_neg_test = len(neg_files_test)\n",
    "y_test = [[1,0] for i in range(len_pos_test)] + [[0,1] for i in range(len_neg_test)]"
   ]
  },
  {
   "cell_type": "code",
   "execution_count": 36,
   "metadata": {},
   "outputs": [],
   "source": [
    "len_trn = len_pos_trn + len_neg_trn\n",
    "len_test = len_pos_test + len_neg_test"
   ]
  },
  {
   "cell_type": "markdown",
   "metadata": {},
   "source": [
    "It seems that some premade estimators do not accept one-hot-encoding of the labels as explained here:https://stackoverflow.com/questions/48114258/tensorflow-estimator-number-of-classes-does-not-change\n",
    "\n",
    "For this reason I create a function which converts a list containing one-hot-incoded labels into a list containing **ordinal encoded** labels."
   ]
  },
  {
   "cell_type": "code",
   "execution_count": 37,
   "metadata": {},
   "outputs": [],
   "source": [
    "def onehot_2_ordinal(onehot):\n",
    "    n_classes = len(onehot[0])\n",
    "    ordinal = []\n",
    "    for i in range(len(onehot)):\n",
    "        for j in range(n_classes):\n",
    "            if onehot[i][j]==1:\n",
    "                ordinal.append(j)\n",
    "    return(ordinal)"
   ]
  },
  {
   "cell_type": "code",
   "execution_count": 38,
   "metadata": {},
   "outputs": [],
   "source": [
    "y_train_ord = onehot_2_ordinal(y_train)\n",
    "y_test_ord = onehot_2_ordinal(y_test)"
   ]
  },
  {
   "cell_type": "markdown",
   "metadata": {},
   "source": [
    "We save it to access it from the other notebooks, following this Stack Overflow page: https://stackoverflow.com/questions/27745500/how-to-save-a-list-to-a-file-and-read-it-as-a-list-type#27745539"
   ]
  },
  {
   "cell_type": "code",
   "execution_count": 39,
   "metadata": {},
   "outputs": [],
   "source": [
    "with open(\"y_train.txt\", \"wb\") as fp:\n",
    "    pickle.dump(y_train, fp)"
   ]
  },
  {
   "cell_type": "code",
   "execution_count": 40,
   "metadata": {},
   "outputs": [],
   "source": [
    "with open(\"y_test.txt\", \"wb\") as fp:\n",
    "    pickle.dump(y_test, fp)"
   ]
  },
  {
   "cell_type": "code",
   "execution_count": 41,
   "metadata": {},
   "outputs": [],
   "source": [
    "with open(\"y_train_ord.txt\", \"wb\") as fp:\n",
    "    pickle.dump(y_train_ord, fp)"
   ]
  },
  {
   "cell_type": "code",
   "execution_count": 42,
   "metadata": {},
   "outputs": [],
   "source": [
    "with open(\"y_test_ord.txt\", \"wb\") as fp:\n",
    "    pickle.dump(y_test_ord, fp)"
   ]
  }
 ],
 "metadata": {
  "kernelspec": {
   "display_name": "Python 3",
   "language": "python",
   "name": "python3"
  },
  "language_info": {
   "codemirror_mode": {
    "name": "ipython",
    "version": 3
   },
   "file_extension": ".py",
   "mimetype": "text/x-python",
   "name": "python",
   "nbconvert_exporter": "python",
   "pygments_lexer": "ipython3",
   "version": "3.5.5"
  }
 },
 "nbformat": 4,
 "nbformat_minor": 2
}
